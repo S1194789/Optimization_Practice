{
  "nbformat": 4,
  "nbformat_minor": 0,
  "metadata": {
    "kernelspec": {
      "display_name": "Python 3",
      "language": "python",
      "name": "python3"
    },
    "language_info": {
      "codemirror_mode": {
        "name": "ipython",
        "version": 3
      },
      "file_extension": ".py",
      "mimetype": "text/x-python",
      "name": "python",
      "nbconvert_exporter": "python",
      "pygments_lexer": "ipython3",
      "version": "3.7.1"
    },
    "toc": {
      "base_numbering": 1,
      "nav_menu": {},
      "number_sections": true,
      "sideBar": true,
      "skip_h1_title": true,
      "title_cell": "Table of Contents",
      "title_sidebar": "Contents",
      "toc_cell": true,
      "toc_position": {
        "height": "calc(100% - 180px)",
        "left": "10px",
        "top": "150px",
        "width": "165px"
      },
      "toc_section_display": true,
      "toc_window_display": true
    },
    "colab": {
      "provenance": []
    }
  },
  "cells": [
    {
      "cell_type": "markdown",
      "metadata": {
        "id": "MGynlzvXv3-c"
      },
      "source": [
        "# Some Python\n",
        "\n",
        "To remind you of useful syntax in Python, I recommend [the introductory course to programming with Python by G. Faccianoni].(http://faccanoni.univ-tln.fr/user/enseignements/20192020/PIM11_L1_NEW.pdf)\n",
        "\n",
        "\n",
        "\n",
        "\n",
        "\n",
        "1. write a comment in python : You will write your first and last name at the beginning of the file.\n",
        "2. display a text: ‘Welcome to the numerical optimisation course’.\n",
        "3. define a variable: x which is 36.3\n",
        "4. Define a list: {3,5,7,8, 2, 1}.\n",
        "5. access and display its 3rd element\n",
        "6. define a matrix and display its inverse\n",
        "7. use the plot functions to display the curve (x-2)^2 on the interval [0,4].\n",
        "8. define a function that returns (x-2)^2\n",
        "9. use this function to calculate the value of (6.3-2)^2\n",
        "\n",
        "\n",
        "\n",
        "\n"
      ]
    },
    {
      "cell_type": "code",
      "source": [
        "#import numpy as np\n",
        "#import matplotlib.pyplot as plt\n",
        "\n",
        "from matplotlib.pylab import *\n",
        "\n",
        "\n",
        "#1. comment in python :\n",
        "# Vous ecrirez votre nom et prénom en debut de fichier\n",
        "# Auteur : Claire DUNE\n",
        "# Date : 9 avril 2020\n",
        "# Brief : quelqes syntaxes de base en python\n",
        "\n",
        "\n",
        "#2. display a text : \"Bienvenue dans le cours d'optimisation numérique\"\n",
        "print(\"Bienvenue dans le cours d'optimisation numérique\")\n",
        "\n",
        "\n",
        "#3. define a value : x equal to 36.3\n",
        "# Be carreful python is case sensitive !\n",
        "# Donc mavariable, Mavariable et MAVARIABLE are different variables\n",
        "#.\n",
        "#do not pick python key :\n",
        "#and as assert break class continue def del elif else except False finally for from\n",
        "#global if import in is lambda not or pass print raise range return True try while with y\n",
        "\n",
        "x = 36.3\n",
        "print(x)\n",
        "\n",
        "#4. define a list : {3,5,7,8, 2, 1}\n",
        "maliste = [3,5,7,8, 2, 1]\n",
        "print(maliste)\n",
        "\n",
        "\n",
        "#5. access the 3rd element and display it\n",
        "trois = maliste[2] # attention, le premier element a pour indice 0\n",
        "print(trois)\n",
        "\n",
        "#6. define a matrix and display its inverse\n",
        "A = [[1, 1, 1], [3, 4, 3], [3, 3, 4]]\n",
        "print(A)\n",
        "\n",
        "\n",
        "Ai = inv(A)\n",
        "print (Ai)\n",
        "\n",
        "# check\n",
        "print (Ai.dot(A))\n",
        "\n",
        "#7. display (x-2)^2 on [0,4]\n",
        "# define a function (x-2)^2\n",
        "def courbe(x):\n",
        "  return (x-2)**2\n",
        "\n",
        "x=linspace(-1,10,100)\n",
        "plot(x,courbe(x))\n",
        "\n",
        "# utiliser cette fonction pour calculer la valeur de (6.3-2)^2\n",
        "y = courbe(6.3)\n",
        "print(y)"
      ],
      "metadata": {
        "id": "wBiE-kvrGjyM"
      },
      "execution_count": null,
      "outputs": []
    },
    {
      "cell_type": "markdown",
      "metadata": {
        "id": "D-RXKHmctZtS"
      },
      "source": [
        "# Unidimensional functions\n",
        "\n",
        "\n",
        "#Ex1\n",
        "Plot these functions and there derivative using python :\n",
        "\n",
        "a) $f(x)=x^2-2$\n",
        "\n",
        "b) $g(x)=\\frac{1}{3}(x-1)^3$\n",
        "\n",
        "d) $h(x)=\\frac{1}{2}(x-\\sqrt{2})$\n",
        "\n",
        "e) $i(x)=\\frac{1}{8}(e^{4(x-\\sqrt{2})}-1)$"
      ]
    },
    {
      "cell_type": "code",
      "source": [
        "import numpy as np\n",
        "import matplotlib.pyplot as plt\n",
        "from matplotlib.pylab import *\n",
        "\n",
        "x = linspace(-6,6,100)\n",
        "xp = linspace(0.1,6,100)\n",
        "\n",
        "def f(x):\n",
        "    return (x-1)**2\n",
        "\n",
        "def g(x):\n",
        "    return (x-1)**3/3\n",
        "\n",
        "\n",
        "\n",
        "plt.plot(x,f(x),'r')\n",
        "plt.plot(x,g(x),'b')\n",
        "ylabel('$f(x)$')\n",
        "xlabel(\"x\")\n",
        "show()"
      ],
      "metadata": {
        "colab": {
          "base_uri": "https://localhost:8080/",
          "height": 449
        },
        "id": "qJXL0Q3BBIOt",
        "outputId": "0bd1fcd3-f90a-4a9e-e403-cfd5668212af"
      },
      "execution_count": null,
      "outputs": [
        {
          "output_type": "display_data",
          "data": {
            "text/plain": [
              "<Figure size 640x480 with 1 Axes>"
            ],
            "image/png": "[encoded data removed]"
          },
          "metadata": {}
        }
      ]
    },
    {
      "cell_type": "markdown",
      "source": [
        "##Ex2\n",
        "\n",
        "Create a function that numerically approximate the derivative. Use it on the functions of Ex1 and plot the results with regards to the true derivative on the same graph.\n"
      ],
      "metadata": {
        "id": "lbIBYA2PbuQT"
      }
    },
    {
      "cell_type": "code",
      "source": [
        "def derivative(F,x,h = 10**(-6)):\n",
        "    return (F(x+h)-F(x))/h"
      ],
      "metadata": {
        "id": "-P5cx6t8Bm-n"
      },
      "execution_count": null,
      "outputs": []
    },
    {
      "cell_type": "markdown",
      "metadata": {
        "id": "-eNOnW6EtZtZ"
      },
      "source": [
        "##  Unidimensional search\n",
        "\n",
        "Test dichotomy and golden section on the functions of exercice 1.\n",
        "\n",
        "a) pour $a = 0$ et $b=3$\n",
        "\n",
        "b) pour $a = -3$ et $b=3$\n",
        "\n",
        "c) pour $a = -2$ et $b=3$"
      ]
    },
    {
      "cell_type": "code",
      "source": [
        "def dichotomieMin (F , a, b,  tol =10**(-6) , Niter =1000) :\n",
        "    # Initialisation\n",
        "    x1 = a\n",
        "    x5 = b\n",
        "    x3 = (x1+x5)/2\n",
        "    x2 = (x1+x3)/2\n",
        "    x4 = (x3+x5)/2\n",
        "    y1, y3, y5 = 0,0,0\n",
        "    xmin = []\n",
        "    xmax = []\n",
        "    xn = []\n",
        "    # Main loop\n",
        "    for n in range ( Niter ) : # no while  !\n",
        "\n",
        "        x2 = (x1+x3)/2\n",
        "        x4 = (x3+x5)/2\n",
        "        f1 = F(x1)\n",
        "        f2 = F(x2)\n",
        "        f3 = F(x3)\n",
        "        f4 = F(x4)\n",
        "        f5 = F(x5)\n",
        "\n",
        "        if (x5-x1) < tol : # if the stop criteria is reached ,\n",
        "            return xn, xmin, xmax # retunr xn and the liste [x_0 , ... x_{n -1}].\n",
        "        else :\n",
        "            if f1 < f2 < f3 < f4  < f5 :\n",
        "                    y1=x1\n",
        "                    y5=x2\n",
        "                    y3=(y1+y5)/2\n",
        "            elif f1 > f2 < f3  < f4  < f5 :\n",
        "                    y1=x1\n",
        "                    y5=x3\n",
        "                    y3=x2\n",
        "            elif f1 > f2 > f3  < f4  < f5 :\n",
        "                    y1=x2\n",
        "                    y5=x4\n",
        "                    y3=x3\n",
        "            elif f1 > f2 > f3  > f4  < f5 :\n",
        "                    y1=x3\n",
        "                    y5=x5\n",
        "                    y3=x4\n",
        "            else :\n",
        "                    y1=x4\n",
        "                    y5=x5\n",
        "                    y3=(y1+y5)/2\n",
        "            x1=y1\n",
        "            x3=y3\n",
        "            x5=y5\n",
        "            xmin.append(x1)\n",
        "            xmax.append(x5)\n",
        "            xn.append(x3)\n",
        "\n",
        "    print (\" Error , no convergence \", Niter , \" iterations \")\n",
        "    return xn, xmin, xmax"
      ],
      "metadata": {
        "id": "Zb_cD8Y6_SGL"
      },
      "execution_count": null,
      "outputs": []
    },
    {
      "cell_type": "code",
      "source": [
        "def golden_rule (F , a, b,  tol =10**(-6) , Niter =1000) :\n",
        "    # Initialisation\n",
        "\n",
        "    rho = 1 - 1/2*(np.sqrt(5)-1)\n",
        "    x1 = a\n",
        "    x4 = b\n",
        "    x2 = x1+rho*(x4-x1)\n",
        "    x3 = x4-rho*(x4-x1)\n",
        "    xmin = []\n",
        "    xmax = []\n",
        "    xn = []\n",
        "    # Boucle principale\n",
        "    for n in range ( Niter ) : # pas de while dans ce cours !\n",
        "\n",
        "        x2 = x1+rho*(x4-x1)\n",
        "        x3 = x4-rho*(x4-x1)\n",
        "        f1 = F(x1)\n",
        "        f2 = F(x2)\n",
        "        f3 = F(x3)\n",
        "        f4 = F(x4)\n",
        "\n",
        "        if (x4-x1) < tol : # Si le critère de convergence est atteint ,\n",
        "            return xn, xmin, xmax # on renvoie xn et la liste [x_0 , ... x_{n -1}].\n",
        "        else :\n",
        "            if f1 < f2 < f3 < f4 :\n",
        "                x4=x2\n",
        "\n",
        "            elif f1 > f2 < f3  < f4 :\n",
        "                x4=x3\n",
        "\n",
        "            elif f1 > f2 > f3  < f4 :\n",
        "                x1=x2\n",
        "\n",
        "            else :\n",
        "                x1=x3\n",
        "\n",
        "            xmin.append(x1)\n",
        "            xmax.append(x4)\n",
        "            xn.append((x1+x4)/2)\n",
        "\n",
        "    print (\" Erreur , l’algorithme n’a pas convergé après \", Niter , \" itérations \")\n",
        "    return xn, xmin, xmax\n",
        "\n",
        "def fibonnacci (F , a, b,  tol =10**(-6) , Niter =1000) :\n",
        "    # Initialisation\n",
        "\n",
        "    Rpp = 1\n",
        "    Rp = 1\n",
        "    rho = 0.1\n",
        "    x1 = a\n",
        "    x4 = b\n",
        "    x2 = x1+rho*(x4-x1)\n",
        "    x3 = x4-rho*(x4-x1)\n",
        "    xmin = []\n",
        "    xmax = []\n",
        "    xn = []\n",
        "    # Boucle principale\n",
        "    for n in range ( Niter ) : # pas de while dans ce cours !\n",
        "\n",
        "        # mise a jour de R\n",
        "        R   = Rpp + Rp\n",
        "        Rpp = Rp\n",
        "        Rp  = R\n",
        "        rho = 1 - Rpp/Rp\n",
        "\n",
        "\n",
        "\n",
        "        x2 = x1+rho*(x4-x1)\n",
        "        x3 = x4-rho*(x4-x1)\n",
        "        f1 = F(x1)\n",
        "        f2 = F(x2)\n",
        "        f3 = F(x3)\n",
        "        f4 = F(x4)\n",
        "\n",
        "        if (x4-x1) < tol : # Si le critère de convergence est atteint ,\n",
        "            return xn, xmin, xmax # on renvoie xn et la liste [x_0 , ... x_{n -1}].\n",
        "        else :\n",
        "            if f1 < f2 < f3 < f4 :\n",
        "                x4=x2\n",
        "\n",
        "            elif f1 > f2 < f3  < f4 :\n",
        "                x4=x3\n",
        "\n",
        "            elif f1 > f2 > f3  < f4 :\n",
        "                x1=x2\n",
        "\n",
        "            else :\n",
        "                x1=x3\n",
        "\n",
        "            xmin.append(x1)\n",
        "            xmax.append(x4)\n",
        "            xn.append((x1+x4)/2)\n",
        "\n",
        "    print (\" Erreur , l’algorithme n’a pas convergé après \", Niter , \" itérations \")\n",
        "    return xn, xmin, x"
      ],
      "metadata": {
        "id": "scnVnEMwA_a4"
      },
      "execution_count": null,
      "outputs": []
    },
    {
      "cell_type": "code",
      "source": [
        "xn,xmin, xmax = dichotomieMin(f, 0,3)\n",
        "x = np.linspace(0,3,100)\n",
        "\n",
        "plt.plot(x,f(x),'r')\n",
        "for val in xn :\n",
        "  plt.plot(val,f(val),'g.')\n",
        "plt.show()"
      ],
      "metadata": {
        "id": "ed0TGnKNBQJO"
      },
      "execution_count": null,
      "outputs": []
    },
    {
      "cell_type": "code",
      "source": [
        "# this code find x so that f(x)\n",
        "\n",
        "from scipy.optimize import fsolve\n",
        "x0 = 2.5\n",
        "def fdot(x) :\n",
        "    return 2*(x-1)\n",
        "\n",
        "def gdot(x) :\n",
        "    return (x-1)**2\n",
        "\n",
        "fsolve( lambda x : gdot(x) , x0 )[0]"
      ],
      "metadata": {
        "colab": {
          "base_uri": "https://localhost:8080/"
        },
        "id": "bWNBQ865DHmj",
        "outputId": "fc68122a-a7ad-46aa-b724-611ab173d763"
      },
      "execution_count": null,
      "outputs": [
        {
          "output_type": "execute_result",
          "data": {
            "text/plain": [
              "1.0000000000000002"
            ]
          },
          "metadata": {},
          "execution_count": 7
        }
      ]
    },
    {
      "cell_type": "code",
      "source": [
        "import sympy\n",
        "sympy.init_printing()\n",
        "\n",
        "x = sympy.Symbol('x')\n",
        "eq = (x-1)**2\n",
        "sympy.solve(eq,x)"
      ],
      "metadata": {
        "id": "6B4Rxj7VDJn6",
        "outputId": "c87a208a-1439-41e7-9e5d-d2bfa874f7ac",
        "colab": {
          "base_uri": "https://localhost:8080/",
          "height": 37
        }
      },
      "execution_count": null,
      "outputs": [
        {
          "output_type": "execute_result",
          "data": {
            "text/plain": [
              "[1]"
            ],
            "text/latex": "$\\displaystyle \\left[ 1\\right]$"
          },
          "metadata": {},
          "execution_count": 8
        }
      ]
    },
    {
      "cell_type": "markdown",
      "metadata": {
        "id": "3fVN0GVYtZtf"
      },
      "source": [
        "\n",
        "\n",
        "## Solving 1d equations\n",
        "\n",
        "## Ex1\n",
        "1) Plot $$p=\\prod_{i=1}^4(x-1/(i+1))$$\n",
        "2) Test Newton Raphson algorithm, and look for the zeors of this function\n",
        "\n",
        "\n",
        "\n"
      ]
    },
    {
      "cell_type": "code",
      "source": [
        "def newton_raphson (F , D, x0,  tol =10**(-6) , Niter =1000) :\n",
        "    # Initialisation\n",
        "    xp = x0\n",
        "    xc = x0\n",
        "    xn = []\n",
        "    xn.append(xc)\n",
        "    # Boucle principale\n",
        "    for n in range ( Niter ) : # pas de while dans ce cours !\n",
        "\n",
        "        xc = xp - (F(xp)/D(xp))\n",
        "        xn.append(xc)\n",
        "\n",
        "        if (np.abs(xp-xc)) < tol : # Si le critère de convergence est atteint ,\n",
        "            return xn# on renvoie xn et la liste [x_0 , ... x\n",
        "        else :\n",
        "            xp = xc\n",
        "\n",
        "\n",
        "    print (\" Erreur , l’algorithme n’a pas convergé après \", Niter , \" itérations \")\n",
        "    return xn"
      ],
      "metadata": {
        "id": "M492BoXMHOND"
      },
      "execution_count": null,
      "outputs": []
    },
    {
      "cell_type": "markdown",
      "metadata": {
        "id": "bplHivor4EJu"
      },
      "source": [
        "## Ex 2 find the square root\n",
        "\n",
        "$x= \\sqrt{a}$ ($a\\in \\mathbb{R^+})$\n",
        "\n",
        "so we define the cost $f(x) = x^2-a$ and we search for positive roots.\n",
        "\n",
        "1) Newton Raphson\n",
        "\n",
        "2) For  $a = 2$, starting from $x_0$ = 1, compute $x_1$, $x_2$, $x_3$.\n",
        "\n",
        "3) What do you think of the accuracy of the result ?"
      ]
    },
    {
      "cell_type": "markdown",
      "source": [],
      "metadata": {
        "id": "8KFSlzK3GCgf"
      }
    }
  ]
}